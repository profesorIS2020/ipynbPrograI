{
 "cells": [
  {
   "cell_type": "code",
   "execution_count": 1,
   "id": "6430b3bf-f645-45a4-bdb5-0e1ee31070c0",
   "metadata": {},
   "outputs": [
    {
     "name": "stdout",
     "output_type": "stream",
     "text": [
      "Writing myFirstC++Script.cpp\n"
     ]
    }
   ],
   "source": [
    "%%writefile myFirstC++Script.cpp\n",
    "#include <iostream>\n",
    "using namespace std;\n",
    "\n",
    "int main() {\n",
    "    cout << \"Hello,C++ in Jupyter!\" << endl;\n",
    "    return 0;\n",
    "}\n"
   ]
  },
  {
   "cell_type": "code",
   "execution_count": 2,
   "id": "75608482-a10a-489e-9e67-8b6001bc56f4",
   "metadata": {},
   "outputs": [
    {
     "name": "stdout",
     "output_type": "stream",
     "text": [
      "Hello,C++ in Jupyter!\n"
     ]
    }
   ],
   "source": [
    "!g++ myFirstC++Script.cpp -o myFirstC++Script && ./myFirstC++Script"
   ]
  },
  {
   "cell_type": "code",
   "execution_count": null,
   "id": "bdb369cd-e08a-411e-a208-3493b178ebe4",
   "metadata": {},
   "outputs": [],
   "source": []
  }
 ],
 "metadata": {
  "kernelspec": {
   "display_name": "Python 3 (ipykernel)",
   "language": "python",
   "name": "python3"
  },
  "language_info": {
   "codemirror_mode": {
    "name": "ipython",
    "version": 3
   },
   "file_extension": ".py",
   "mimetype": "text/x-python",
   "name": "python",
   "nbconvert_exporter": "python",
   "pygments_lexer": "ipython3",
   "version": "3.12.3"
  }
 },
 "nbformat": 4,
 "nbformat_minor": 5
}
