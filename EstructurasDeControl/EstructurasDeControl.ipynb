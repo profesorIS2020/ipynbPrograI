{
 "cells": [
  {
   "cell_type": "code",
   "execution_count": 14,
   "id": "97a15e02-ef30-4741-9d1f-beb512453235",
   "metadata": {},
   "outputs": [
    {
     "name": "stdout",
     "output_type": "stream",
     "text": [
      "Writing Guess.cpp\n"
     ]
    }
   ],
   "source": [
    "%%writefile Guess.cpp\n",
    "\n",
    "#include <iostream>\n",
    "using namespace std;\n",
    "int main(){\n",
    "    char ch='K';\n",
    "    char answer = 'K';\n",
    "\n",
    "    std::cout<<\"Estoy pensando una letra entre la A y la Z\"<< endl;\n",
    "    std::cout<<\"¿Puedes adivinarla?\"<< endl;\n",
    "    std::cin >> answer; //lee el char desde el teclado\n",
    "    if(ch == answer)cout <<  \"** Correcto **\" << endl; \n",
    "    return 0;\n",
    "}"
   ]
  },
  {
   "cell_type": "code",
   "execution_count": 15,
   "id": "abb35981-8373-4ac9-9de2-a5bfcbd0713d",
   "metadata": {},
   "outputs": [
    {
     "name": "stdout",
     "output_type": "stream",
     "text": [
      "Estoy pensando una letra entre la A y la Z\n",
      "¿Puedes adivinarla?\n",
      "^C\n"
     ]
    }
   ],
   "source": [
    "#!g++ Guess.cpp -o guess  && ./guess"
   ]
  },
  {
   "cell_type": "code",
   "execution_count": 19,
   "id": "c698ce1d-4728-412e-84f7-074aaabeda56",
   "metadata": {},
   "outputs": [
    {
     "name": "stdout",
     "output_type": "stream",
     "text": [
      "Overwriting Guess_1.cpp\n"
     ]
    }
   ],
   "source": [
    "%%writefile Guess_1.cpp\n",
    "\n",
    "#include <iostream>\n",
    "using namespace std;\n",
    "int main(){\n",
    "    char ch='K';\n",
    "    char answer = 'K';\n",
    "\n",
    "    std::cout<<\"Estoy pensando una letra entre la A y la Z\"<< endl;\n",
    "    std::cout<<\"¿Puedes adivinarla?\"<< endl;\n",
    "    std::cin >> answer; //lee el char desde el teclado\n",
    "    if(ch == answer)cout <<  \"** Correcto **\" << endl; \n",
    "    else cout<<\"** ... Sorry, está equivocado\"<< endl;\n",
    "    return 0;\n",
    "}"
   ]
  },
  {
   "cell_type": "code",
   "execution_count": null,
   "id": "66004079-6e6d-47f5-9199-9c0ebbe351ca",
   "metadata": {},
   "outputs": [],
   "source": [
    "#!g++ Guess_1.cpp -o guess_1  && ./guess_1"
   ]
  },
  {
   "cell_type": "code",
   "execution_count": 22,
   "id": "1174c83d-ee1e-4fa8-88ff-8cab5b06c93e",
   "metadata": {},
   "outputs": [
    {
     "name": "stdout",
     "output_type": "stream",
     "text": [
      "Overwriting Guess_2.cpp\n"
     ]
    }
   ],
   "source": [
    "%%writefile Guess_2.cpp\n",
    "\n",
    "#include <iostream>\n",
    "using namespace std;\n",
    "int main(){\n",
    "    char ch='K';\n",
    "    char answer = 'K';\n",
    "\n",
    "    std::cout<<\"Estoy pensando una letra entre la A y la Z\"<< endl;\n",
    "    std::cout<<\"¿Puedes adivinarla?\"<< endl;\n",
    "    std::cin >> answer; //lee el char desde el teclado\n",
    "    if(ch == answer)cout <<  \"** Correcto **\" << endl; \n",
    "    else {\n",
    "        if(ch < answer)cout << \"**Te quedastes por debajo**\" << endl;\n",
    "        else cout << \"**Te has puesto por arriba**\"<< endl;\n",
    "        }\n",
    "    return 0;\n",
    "}"
   ]
  },
  {
   "cell_type": "code",
   "execution_count": 23,
   "id": "1adca7b0-0f43-4226-9dd4-9a442e63237e",
   "metadata": {},
   "outputs": [],
   "source": [
    "!g++ Guess_2.cpp -o guess_2  "
   ]
  },
  {
   "cell_type": "code",
   "execution_count": 29,
   "id": "19194f2f-468d-4342-acb8-d42b4641fcb0",
   "metadata": {},
   "outputs": [
    {
     "name": "stdout",
     "output_type": "stream",
     "text": [
      "Overwriting Escaleras.cpp\n"
     ]
    }
   ],
   "source": [
    "%%writefile Escaleras.cpp\n",
    "#include <iostream>\n",
    "using namespace std;\n",
    "int main(){\n",
    "    int x; \n",
    "    for(x=0;x<6;x++){\n",
    "        std::cout << x << endl;\n",
    "        if(x==1)\n",
    "            std::cout << \"x es uno\" << endl;\n",
    "        else if(x==2)\n",
    "            std::cout << \"x es dos\" << endl;\n",
    "        else if(x==3)\n",
    "            std::cout << \"x es tres\" << endl;\n",
    "        else if(x==4)\n",
    "            std::cout << \"x es cuatro\" << endl;\n",
    "        else {\n",
    "            std::cout<< \"x is not between 1 and 4 \" << endl;\n",
    "        }\n",
    "    }\n",
    "    return 0;\n",
    "}\n"
   ]
  },
  {
   "cell_type": "code",
   "execution_count": 30,
   "id": "653128b0-5db2-43d0-9aa0-5efcf18ceab3",
   "metadata": {},
   "outputs": [],
   "source": [
    "!g++ Escaleras.cpp -o escaleras "
   ]
  },
  {
   "cell_type": "code",
   "execution_count": 42,
   "id": "2af26b51-f2a7-48dd-adc5-19ccd446d00e",
   "metadata": {},
   "outputs": [
    {
     "name": "stdout",
     "output_type": "stream",
     "text": [
      "Overwriting loop.cpp\n"
     ]
    }
   ],
   "source": [
    "%%writefile loop.cpp\n",
    "#include <iostream>\n",
    "using namespace std;\n",
    "int main(){\n",
    "    int i,j;\n",
    "    for(i=0,j=10;i<j;i++,j--){\n",
    "        std::cout << \"i and j:\"<< endl; \n",
    "        std::cout << i << endl; \n",
    "        std::cout << j << endl; \n",
    "    }\n",
    "    return 0;\n",
    "}"
   ]
  },
  {
   "cell_type": "code",
   "execution_count": 43,
   "id": "fa7b3c64-e33f-4e15-8b61-c016727e43a4",
   "metadata": {},
   "outputs": [],
   "source": [
    "!g++ loop.cpp -o loop"
   ]
  },
  {
   "cell_type": "code",
   "execution_count": null,
   "id": "517a5e56-84d2-4b9a-b599-9dfa3987bf6b",
   "metadata": {},
   "outputs": [],
   "source": []
  }
 ],
 "metadata": {
  "kernelspec": {
   "display_name": "Python 3 (ipykernel)",
   "language": "python",
   "name": "python3"
  },
  "language_info": {
   "codemirror_mode": {
    "name": "ipython",
    "version": 3
   },
   "file_extension": ".py",
   "mimetype": "text/x-python",
   "name": "python",
   "nbconvert_exporter": "python",
   "pygments_lexer": "ipython3",
   "version": "3.12.3"
  }
 },
 "nbformat": 4,
 "nbformat_minor": 5
}
