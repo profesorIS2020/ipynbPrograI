{
 "cells": [
  {
   "cell_type": "code",
   "execution_count": 4,
   "id": "229348d4-687b-4195-bc6a-9091efee4ffa",
   "metadata": {},
   "outputs": [
    {
     "name": "stdout",
     "output_type": "stream",
     "text": [
      "Overwriting ejercicio_1.cpp\n"
     ]
    }
   ],
   "source": [
    "%%writefile ejercicio_1.cpp\n",
    "/** Ejercicio 1: Dirección de Correo\n",
    "Escribe un programa que muestre tu nombre y dirección de correo. No es necesario leer esta información del usuario; estos valores pueden ser parte del código fuente del programa.\n",
    "**/\n",
    "#include <iostream>\n",
    "using namespace std;\n",
    "int main() {\n",
    "    // Muestra el nombre y el correo electrónico.\n",
    "    cout << \"Nombre: Juan Pérez\" << endl;\n",
    "    cout << \"Correo: juan.perez@example.com\" << endl;\n",
    "    return 0;\n",
    "}"
   ]
  },
  {
   "cell_type": "code",
   "execution_count": 6,
   "id": "875786e9-32d1-45e6-bdf1-d34b681c21b3",
   "metadata": {},
   "outputs": [],
   "source": [
    "!g++ ejercicio_1.cpp -o ejercicio_1"
   ]
  },
  {
   "cell_type": "code",
   "execution_count": 9,
   "id": "198c7761-5beb-4ad9-8e0d-8257e91e9b45",
   "metadata": {},
   "outputs": [
    {
     "name": "stdout",
     "output_type": "stream",
     "text": [
      "Overwriting ejercicio_2.cpp\n"
     ]
    }
   ],
   "source": [
    "%%writefile ejercicio_2.cpp\n",
    "/** Escribe un programa que le pida al usuario que ingrese su nombre. El programa debe responder con un mensaje que diga hola al usuario, \n",
    "usando su nombre. Utiliza 13 líneas de código **/\n",
    "#include <iostream>\n",
    "#include <string>\n",
    "using namespace std;\n",
    "/** Programa que pide el nombre al usuario y lo saluda*/\n",
    "int main() {\n",
    "    string nombre;\n",
    "    cout << \"Ingrese su nombre: \";\n",
    "//   Obtener el nombre por línea de comandos \n",
    "    getline(cin, nombre);\n",
    "//Mostrar el resultado\n",
    "    cout << \"Hola, \" << nombre << \"!\" << endl;\n",
    "    return 0;\n",
    "}\n"
   ]
  },
  {
   "cell_type": "code",
   "execution_count": 10,
   "id": "c6284623-4618-49ae-a11d-b54cbfc82fee",
   "metadata": {},
   "outputs": [],
   "source": [
    "!g++ ejercicio_2.cpp -o ejercicio_2"
   ]
  },
  {
   "cell_type": "code",
   "execution_count": 11,
   "id": "531f8a05-8342-4725-8967-803c9590f998",
   "metadata": {},
   "outputs": [
    {
     "name": "stdout",
     "output_type": "stream",
     "text": [
      "Writing area.cpp\n"
     ]
    }
   ],
   "source": [
    "%%writefile area.cpp\n",
    "/** Escribe un programa que le pida al usuario que ingrese el ancho y el largo de una habitación. \n",
    "Una vez que se hayan leído los valores, tu programa debe calcular y mostrar el área de la habitación. \n",
    "El largo y el ancho se ingresarán como números de punto flotante. Incluye unidades en tu prompt y mensaje de salida; \n",
    "ya sea pies o metros, dependiendo de con qué unidad te sientas más cómodo trabajando. Utilice 14 líneas de código **/\n",
    "\n",
    "#include <iostream>\n",
    "using namespace std;\n",
    "/*Programa para calcular el área de una habitación*/\n",
    "int main() {\n",
    "    double largo, ancho;\n",
    "    cout << \"Ingrese la longitud de la habitación en metros: \";\n",
    "    cin >> largo;\n",
    "    cout << \"Ingrese el ancho de la habitación en metros: \";\n",
    "    cin >> ancho;\n",
    "    double area = largo * ancho;\n",
    "// Mostrar el resultado\n",
    "    cout << \"El área de la habitación es \" << area << \" metros cuadrados.\" << endl;\n",
    "    return 0;\n",
    "}"
   ]
  },
  {
   "cell_type": "code",
   "execution_count": 12,
   "id": "0a8671ec-db32-4214-be1d-ce31cc792508",
   "metadata": {},
   "outputs": [],
   "source": [
    "!g++ area.cpp -o area"
   ]
  },
  {
   "cell_type": "code",
   "execution_count": 13,
   "id": "5e276ae9-1bb7-4fe6-87e8-d819a04bbc23",
   "metadata": {},
   "outputs": [
    {
     "name": "stdout",
     "output_type": "stream",
     "text": [
      "Writing areaDeUnCampo.cpp\n"
     ]
    }
   ],
   "source": [
    "%%writefile areaDeUnCampo.cpp\n",
    "/** Crea un programa que lea el largo y el ancho del campo de un granjero del usuario en pies. Muestra el área del campo en acres. Resuélvelo en 14 líneas\n",
    "Pista: Hay 43,560 pies cuadrados en un acre.**/\n",
    "\n",
    "#include <iostream>\n",
    "\n",
    "using namespace std;\n",
    "/*Programa que calcula el área de un campo en acres*/\n",
    "int main() {\n",
    "    double largo, ancho;\n",
    "    cout << \"Ingrese el largo del campo en pies: \";\n",
    "    cin >> largo;\n",
    "    cout << \"Ingrese el ancho del campo en pies: \";\n",
    "    cin >> ancho;\n",
    "// Cálculo del área en acres\n",
    "    double acres = (largo * ancho) / 43560.0;\n",
    "    cout << \"El área del campo es \" << acres << \" acres.\" << endl;\n",
    "    return 0;\n",
    "}"
   ]
  },
  {
   "cell_type": "code",
   "execution_count": 14,
   "id": "52ad191e-8a81-433b-b301-eb7e6ee4f08c",
   "metadata": {},
   "outputs": [],
   "source": [
    "!g++ areaDeUnCampo.cpp -o areaDeUnCampo"
   ]
  },
  {
   "cell_type": "code",
   "execution_count": 32,
   "id": "97c3b7c6-bb36-4360-afba-4217d9749bb0",
   "metadata": {},
   "outputs": [
    {
     "name": "stdout",
     "output_type": "stream",
     "text": [
      "Overwriting depositoDeBotellas.cpp\n"
     ]
    }
   ],
   "source": [
    "%%writefile depositoDeBotellas.cpp\n",
    "\n",
    "#include <iostream>\n",
    "#include <iomanip>\n",
    "using namespace std;\n",
    "/*Programa para leer el número de contenedores y mostrar reembolso*/\n",
    "int main() {\n",
    "    int lessThanOne, moreThanOne;\n",
    "    cout << \"Ingrese el número de contenedores de 1 litro o menos: \";\n",
    "    cin >> lessThanOne;\n",
    "    cout << \"Ingrese el número de contenedores de más de 1 litro: \";\n",
    "    cin >> moreThanOne;\n",
    "    // Calcular el reembolso\n",
    "    double refund = (lessThanOne * 0.10) + (moreThanOne * 0.25);\n",
    "   //Mostrar el reembolso\n",
    "    cout << \"El reembolso total es $ \" << std::fixed << std::setprecision(2) << refund << endl;\n",
    "    return 0;\n",
    "}"
   ]
  },
  {
   "cell_type": "code",
   "execution_count": null,
   "id": "843036d6-3545-4430-853a-6fe877efe7ba",
   "metadata": {},
   "outputs": [],
   "source": []
  }
 ],
 "metadata": {
  "kernelspec": {
   "display_name": "Python 3 (ipykernel)",
   "language": "python",
   "name": "python3"
  },
  "language_info": {
   "codemirror_mode": {
    "name": "ipython",
    "version": 3
   },
   "file_extension": ".py",
   "mimetype": "text/x-python",
   "name": "python",
   "nbconvert_exporter": "python",
   "pygments_lexer": "ipython3",
   "version": "3.12.3"
  }
 },
 "nbformat": 4,
 "nbformat_minor": 5
}
